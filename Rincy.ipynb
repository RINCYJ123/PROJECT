{
 "cells": [
  {
   "cell_type": "code",
   "execution_count": 5,
   "id": "4e42549c",
   "metadata": {},
   "outputs": [
    {
     "name": "stdout",
     "output_type": "stream",
     "text": [
      "10\n",
      "10 is of type <class 'int'>\n"
     ]
    }
   ],
   "source": [
    "a=10\n",
    "print(a)\n",
    "print(a,\"is of type\",type(a))"
   ]
  },
  {
   "cell_type": "code",
   "execution_count": 6,
   "id": "72572dcf",
   "metadata": {},
   "outputs": [
    {
     "name": "stdout",
     "output_type": "stream",
     "text": [
      "78.96\n",
      "78.96 is of type <class 'float'>\n"
     ]
    }
   ],
   "source": [
    "b=78.96\n",
    "print(b)\n",
    "print(b,\"is of type\",type(b))"
   ]
  },
  {
   "cell_type": "code",
   "execution_count": 7,
   "id": "404442da",
   "metadata": {},
   "outputs": [
    {
     "name": "stdout",
     "output_type": "stream",
     "text": [
      "hello\n"
     ]
    }
   ],
   "source": [
    "c=\"hello\"\n",
    "print(c)"
   ]
  },
  {
   "cell_type": "code",
   "execution_count": 8,
   "id": "4b250069",
   "metadata": {},
   "outputs": [
    {
     "name": "stdout",
     "output_type": "stream",
     "text": [
      "10 10 10\n"
     ]
    }
   ],
   "source": [
    "a=b=c=10\n",
    "print(a,b,c)"
   ]
  },
  {
   "cell_type": "code",
   "execution_count": 10,
   "id": "347e8759",
   "metadata": {},
   "outputs": [
    {
     "name": "stdout",
     "output_type": "stream",
     "text": [
      "1 67.98 hii\n"
     ]
    }
   ],
   "source": [
    "a,b,c=1,67.98,\"hii\"\n",
    "print(a,b,c)"
   ]
  },
  {
   "cell_type": "code",
   "execution_count": 11,
   "id": "62705517",
   "metadata": {},
   "outputs": [],
   "source": [
    "del a"
   ]
  },
  {
   "cell_type": "code",
   "execution_count": null,
   "id": "4a5b9eea",
   "metadata": {},
   "outputs": [],
   "source": []
  },
  {
   "cell_type": "code",
   "execution_count": 13,
   "id": "da7283fa",
   "metadata": {},
   "outputs": [
    {
     "data": {
      "text/plain": [
       "'10'"
      ]
     },
     "execution_count": 13,
     "metadata": {},
     "output_type": "execute_result"
    }
   ],
   "source": [
    "str(10)"
   ]
  },
  {
   "cell_type": "code",
   "execution_count": 18,
   "id": "2b7bde3d",
   "metadata": {},
   "outputs": [
    {
     "name": "stdout",
     "output_type": "stream",
     "text": [
      "Enter your namerincy michele\n",
      "Your name is rincy michele\n"
     ]
    }
   ],
   "source": [
    "str=input(\"Enter your name\")\n",
    "print(\"Your name is\",str)"
   ]
  },
  {
   "cell_type": "code",
   "execution_count": 19,
   "id": "43a3d67f",
   "metadata": {},
   "outputs": [
    {
     "name": "stdout",
     "output_type": "stream",
     "text": [
      "True\n",
      "False\n",
      "True\n"
     ]
    }
   ],
   "source": [
    "s='abcde'\n",
    "print('a'in s)\n",
    "print('f' in s)\n",
    "print('f' not in s)"
   ]
  },
  {
   "cell_type": "code",
   "execution_count": 20,
   "id": "b2723d12",
   "metadata": {},
   "outputs": [
    {
     "name": "stdout",
     "output_type": "stream",
     "text": [
      "True\n",
      "False\n",
      "False\n"
     ]
    }
   ],
   "source": [
    "a,b,c=10,10,5\n",
    "print(a is b)\n",
    "print(a is c)\n",
    "print(a is not b)"
   ]
  },
  {
   "cell_type": "code",
   "execution_count": 24,
   "id": "3ed1dfe0",
   "metadata": {},
   "outputs": [
    {
     "name": "stdout",
     "output_type": "stream",
     "text": [
      "print a random character n\n",
      "[10, 3, 2, 19, 1, 8]\n"
     ]
    },
    {
     "data": {
      "text/plain": [
       "0.9851187890217379"
      ]
     },
     "execution_count": 24,
     "metadata": {},
     "output_type": "execute_result"
    }
   ],
   "source": [
    "import random\n",
    "s='ancde'\n",
    "print(\"print a random character\",random.choice(s))\n",
    "lst=[10,2,3,1,8,19]\n",
    "random.shuffle(lst)\n",
    "print(lst)\n",
    "random.random()"
   ]
  },
  {
   "cell_type": "code",
   "execution_count": 27,
   "id": "b1f7ddcf",
   "metadata": {},
   "outputs": [
    {
     "name": "stdout",
     "output_type": "stream",
     "text": [
      "welcome you all\n",
      "m m\n"
     ]
    }
   ],
   "source": [
    "str=\"welcome you all\"\n",
    "print(str)\n",
    "print(str[5],str[5])"
   ]
  },
  {
   "cell_type": "code",
   "execution_count": 28,
   "id": "242e4308",
   "metadata": {},
   "outputs": [
    {
     "data": {
      "text/plain": [
       "'welcome'"
      ]
     },
     "execution_count": 28,
     "metadata": {},
     "output_type": "execute_result"
    }
   ],
   "source": [
    "str[0:7]"
   ]
  },
  {
   "cell_type": "code",
   "execution_count": 29,
   "id": "ba68cf30",
   "metadata": {},
   "outputs": [
    {
     "data": {
      "text/plain": [
       "'welcome you al'"
      ]
     },
     "execution_count": 29,
     "metadata": {},
     "output_type": "execute_result"
    }
   ],
   "source": [
    "str[0:-1]"
   ]
  },
  {
   "cell_type": "code",
   "execution_count": 32,
   "id": "e1830809",
   "metadata": {},
   "outputs": [
    {
     "name": "stdout",
     "output_type": "stream",
     "text": [
      "w welcome\n"
     ]
    }
   ],
   "source": [
    "print(str[:1],str[:7])"
   ]
  },
  {
   "cell_type": "raw",
   "id": "9095d2e4",
   "metadata": {},
   "source": []
  },
  {
   "cell_type": "code",
   "execution_count": 1,
   "id": "fda449f0",
   "metadata": {},
   "outputs": [
    {
     "ename": "TypeError",
     "evalue": "unsupported operand type(s) for *: 'type' and 'int'",
     "output_type": "error",
     "traceback": [
      "\u001b[1;31m---------------------------------------------------------------------------\u001b[0m",
      "\u001b[1;31mTypeError\u001b[0m                                 Traceback (most recent call last)",
      "\u001b[1;32m~\\AppData\\Local\\Temp\\ipykernel_2400\\1959796387.py\u001b[0m in \u001b[0;36m<module>\u001b[1;34m\u001b[0m\n\u001b[1;32m----> 1\u001b[1;33m \u001b[0mstr\u001b[0m\u001b[1;33m*\u001b[0m\u001b[1;36m3\u001b[0m\u001b[1;33m\u001b[0m\u001b[1;33m\u001b[0m\u001b[0m\n\u001b[0m",
      "\u001b[1;31mTypeError\u001b[0m: unsupported operand type(s) for *: 'type' and 'int'"
     ]
    }
   ],
   "source": [
    "str*3"
   ]
  },
  {
   "cell_type": "code",
   "execution_count": 8,
   "id": "859c3860",
   "metadata": {},
   "outputs": [
    {
     "data": {
      "text/plain": [
       "'googlegooglegoogle'"
      ]
     },
     "execution_count": 8,
     "metadata": {},
     "output_type": "execute_result"
    }
   ],
   "source": [
    "str1*3"
   ]
  },
  {
   "cell_type": "code",
   "execution_count": 3,
   "id": "6cbc38cd",
   "metadata": {},
   "outputs": [
    {
     "name": "stdout",
     "output_type": "stream",
     "text": [
      "google chrome\n"
     ]
    }
   ],
   "source": [
    "str1=\"google\"\n",
    "str2=\"chrome\"\n",
    "print(str1+\" \"+str2)"
   ]
  },
  {
   "cell_type": "code",
   "execution_count": 7,
   "id": "5f5690c5",
   "metadata": {},
   "outputs": [
    {
     "data": {
      "text/plain": [
       "6"
      ]
     },
     "execution_count": 7,
     "metadata": {},
     "output_type": "execute_result"
    }
   ],
   "source": [
    "len(str1)\n"
   ]
  },
  {
   "cell_type": "code",
   "execution_count": 9,
   "id": "a07f128b",
   "metadata": {},
   "outputs": [
    {
     "data": {
      "text/plain": [
       "'ogle'"
      ]
     },
     "execution_count": 9,
     "metadata": {},
     "output_type": "execute_result"
    }
   ],
   "source": [
    "str1[2:len(str2)]"
   ]
  },
  {
   "cell_type": "code",
   "execution_count": 10,
   "id": "57cd7341",
   "metadata": {},
   "outputs": [
    {
     "data": {
      "text/plain": [
       "False"
      ]
     },
     "execution_count": 10,
     "metadata": {},
     "output_type": "execute_result"
    }
   ],
   "source": [
    "str in[\"hello\"]"
   ]
  },
  {
   "cell_type": "code",
   "execution_count": 1,
   "id": "0866b425",
   "metadata": {},
   "outputs": [
    {
     "name": "stdout",
     "output_type": "stream",
     "text": [
      "x\n"
     ]
    }
   ],
   "source": [
    "str=\"text process\"\n",
    "print(max(str))"
   ]
  },
  {
   "cell_type": "code",
   "execution_count": 2,
   "id": "8d8be374",
   "metadata": {},
   "outputs": [
    {
     "name": "stdout",
     "output_type": "stream",
     "text": [
      "LEARNING python IS FUN\n",
      "Learning python is fun.we really we really enjoyed it\n",
      "Learning Python Is Fun\n"
     ]
    }
   ],
   "source": [
    "s=\"learning PYTHON is fun\"\n",
    "print(s.swapcase())\n",
    "s=\"learning python is fun.we really we really enjoyed it\"\n",
    "print(s.capitalize())\n",
    "s=\"learning python is fun\"\n",
    "print(s.title())"
   ]
  },
  {
   "cell_type": "code",
   "execution_count": 3,
   "id": "e71a1009",
   "metadata": {},
   "outputs": [
    {
     "name": "stdout",
     "output_type": "stream",
     "text": [
      "learning python is fun\n",
      "learning python is fun\n",
      "4learning python is fun\n"
     ]
    }
   ],
   "source": [
    "s='       learning python is fun'\n",
    "print(s.lstrip())\n",
    "s='learning python is fun****'\n",
    "print(s.rstrip('*'))\n",
    "s='$$$$$4learning python is fun$$$$'\n",
    "print(s.strip('$'))"
   ]
  },
  {
   "cell_type": "code",
   "execution_count": 4,
   "id": "85a00b56",
   "metadata": {},
   "outputs": [
    {
     "name": "stdout",
     "output_type": "stream",
     "text": [
      "this is python programming****\n",
      "$$$$this is python programming\n",
      "0001\n"
     ]
    }
   ],
   "source": [
    "s=\"this is python programming\"\n",
    "print(s.ljust(30,'*'))\n",
    "print(s.rjust(30,'$'))\n",
    "s=\"1\"\n",
    "print(s.zfill(4))"
   ]
  },
  {
   "cell_type": "code",
   "execution_count": 5,
   "id": "a5f1268c",
   "metadata": {},
   "outputs": [
    {
     "name": "stdout",
     "output_type": "stream",
     "text": [
      "2\n",
      "3\n"
     ]
    }
   ],
   "source": [
    "s=\"this is python programming\"\n",
    "print(s.count('i',0,10))\n",
    "print(s.count(\"i\",0,25))"
   ]
  },
  {
   "cell_type": "code",
   "execution_count": 8,
   "id": "ec101cad",
   "metadata": {},
   "outputs": [
    {
     "name": "stdout",
     "output_type": "stream",
     "text": [
      "8\n",
      "-1\n",
      "-1\n",
      "19\n",
      "10\n"
     ]
    },
    {
     "ename": "ValueError",
     "evalue": "substring not found",
     "output_type": "error",
     "traceback": [
      "\u001b[1;31m---------------------------------------------------------------------------\u001b[0m",
      "\u001b[1;31mValueError\u001b[0m                                Traceback (most recent call last)",
      "\u001b[1;32m~\\AppData\\Local\\Temp\\ipykernel_2776\\2633918854.py\u001b[0m in \u001b[0;36m<module>\u001b[1;34m\u001b[0m\n\u001b[0;32m      7\u001b[0m \u001b[0mstr2\u001b[0m\u001b[1;33m=\u001b[0m\u001b[1;34m\"this is python programming\"\u001b[0m\u001b[1;33m\u001b[0m\u001b[1;33m\u001b[0m\u001b[0m\n\u001b[0;32m      8\u001b[0m \u001b[0mprint\u001b[0m\u001b[1;33m(\u001b[0m\u001b[0ms\u001b[0m\u001b[1;33m.\u001b[0m\u001b[0mindex\u001b[0m\u001b[1;33m(\u001b[0m\u001b[1;34m'thon'\u001b[0m\u001b[1;33m,\u001b[0m\u001b[1;36m0\u001b[0m\u001b[1;33m,\u001b[0m\u001b[1;36m25\u001b[0m\u001b[1;33m)\u001b[0m\u001b[1;33m)\u001b[0m\u001b[1;33m\u001b[0m\u001b[1;33m\u001b[0m\u001b[0m\n\u001b[1;32m----> 9\u001b[1;33m \u001b[0mprint\u001b[0m\u001b[1;33m(\u001b[0m\u001b[0ms\u001b[0m\u001b[1;33m.\u001b[0m\u001b[0mindex\u001b[0m\u001b[1;33m(\u001b[0m\u001b[1;34m'thy'\u001b[0m\u001b[1;33m)\u001b[0m\u001b[1;33m)\u001b[0m\u001b[1;33m\u001b[0m\u001b[1;33m\u001b[0m\u001b[0m\n\u001b[0m",
      "\u001b[1;31mValueError\u001b[0m: substring not found"
     ]
    }
   ],
   "source": [
    "str1=\"you are my best friend\"\n",
    "print(str1.find(\"my\"))\n",
    "print(str1.find('bes,0,25'))\n",
    "str=\"we are not best friends\"\n",
    "print(str.find(\"you\"))\n",
    "print(str.rfind('end'))\n",
    "str2=\"this is python programming\"\n",
    "print(s.index('thon',0,25))\n",
    "print(s.index('thy'))"
   ]
  },
  {
   "cell_type": "markdown",
   "id": "04751ce6",
   "metadata": {},
   "source": [
    "s=\"python programming is "
   ]
  },
  {
   "cell_type": "code",
   "execution_count": null,
   "id": "42533ea3",
   "metadata": {},
   "outputs": [],
   "source": []
  }
 ],
 "metadata": {
  "kernelspec": {
   "display_name": "Python 3 (ipykernel)",
   "language": "python",
   "name": "python3"
  },
  "language_info": {
   "codemirror_mode": {
    "name": "ipython",
    "version": 3
   },
   "file_extension": ".py",
   "mimetype": "text/x-python",
   "name": "python",
   "nbconvert_exporter": "python",
   "pygments_lexer": "ipython3",
   "version": "3.9.13"
  }
 },
 "nbformat": 4,
 "nbformat_minor": 5
}
