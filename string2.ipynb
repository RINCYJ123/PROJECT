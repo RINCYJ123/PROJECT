{
 "cells": [
  {
   "cell_type": "code",
   "execution_count": null,
   "id": "03dfe11e",
   "metadata": {},
   "outputs": [],
   "source": [
    "while True:\n",
    "    a = int(input(\"Enter the Choice: \"))\n",
    "    s = input(\"Enter the string: \")\n",
    "\n",
    "    if a == 1:\n",
    "        print(s.upper())\n",
    "    elif a == 2:\n",
    "        print(s.lower())\n",
    "    elif a == 3:\n",
    "        print(s.swapcase())\n",
    "    elif a == 4:\n",
    "        print(s[::-1])\n",
    "    elif a == 5:\n",
    "        print(len(s))\n",
    "    elif a == 6:\n",
    "        print(s.title())\n",
    "    elif a == 7:\n",
    "        print(s.isalpha())\n",
    "    elif a == 8:\n",
    "        print(s.islower())\n",
    "    elif a == 9:\n",
    "        print(s.isupper())\n",
    "    elif a == 10:\n",
    "        print(s.istitle())\n",
    "    else:\n",
    "        print('Enter a valid option')\n",
    "\n",
    "    rep = input('Do you want to continue? (Yes/No): ')\n",
    "    if rep.lower() != 'yes':\n",
    "        break\n"
   ]
  },
  {
   "cell_type": "code",
   "execution_count": null,
   "id": "7d3beb5e",
   "metadata": {},
   "outputs": [],
   "source": []
  }
 ],
 "metadata": {
  "kernelspec": {
   "display_name": "Python 3 (ipykernel)",
   "language": "python",
   "name": "python3"
  },
  "language_info": {
   "codemirror_mode": {
    "name": "ipython",
    "version": 3
   },
   "file_extension": ".py",
   "mimetype": "text/x-python",
   "name": "python",
   "nbconvert_exporter": "python",
   "pygments_lexer": "ipython3",
   "version": "3.9.13"
  }
 },
 "nbformat": 4,
 "nbformat_minor": 5
}
